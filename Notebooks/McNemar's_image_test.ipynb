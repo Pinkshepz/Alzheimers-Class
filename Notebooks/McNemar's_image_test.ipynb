{
  "nbformat": 4,
  "nbformat_minor": 0,
  "metadata": {
    "colab": {
      "name": "McNemar's_image_test.ipynb",
      "provenance": [],
      "collapsed_sections": [
        "YJ5XkJxEI6Ka"
      ]
    },
    "kernelspec": {
      "name": "python3",
      "display_name": "Python 3"
    },
    "language_info": {
      "name": "python"
    },
    "accelerator": "GPU"
  },
  "cells": [
    {
      "cell_type": "markdown",
      "metadata": {
        "id": "5_vNYbXWdFsq"
      },
      "source": [
        "# McNemar's Test for Image Classification"
      ]
    },
    {
      "cell_type": "markdown",
      "metadata": {
        "id": "_gjOlTH5dMp9"
      },
      "source": [
        "Our goal is to test the significance of how our model is improved from the baseline model via test set evaluation."
      ]
    },
    {
      "cell_type": "markdown",
      "metadata": {
        "id": "NpMNF2X9dmac"
      },
      "source": [
        "## What is McNemar's test?"
      ]
    },
    {
      "cell_type": "markdown",
      "metadata": {
        "id": "CQ81WSqdeMjj"
      },
      "source": [
        "The McNemar's test is a non-parametric test for paired nominal data. It’s used when you are interested in finding a change in proportion for the paired data. In this test, we use it for comparing the prediction between baseline and our model to determine whether our model performs better than the baseline one. Learn further about McNemar's Test: [McNemar's Test](https://www.statisticshowto.com/mcnemar-test/)\n",
        "\n",
        "![mc](http://rasbt.github.io/mlxtend/user_guide/evaluate/mcnemar_table_files/mcnemar_contingency_table.png)"
      ]
    },
    {
      "cell_type": "markdown",
      "metadata": {
        "id": "_BOIK6dQemRP"
      },
      "source": [
        "We figure out this statistical test via an [online calculator](https://www2.ccrb.cuhk.edu.hk/stat/confidence%20interval/McNemar%20Test.htm)"
      ]
    },
    {
      "cell_type": "markdown",
      "metadata": {
        "id": "YJ5XkJxEI6Ka"
      },
      "source": [
        "## Imports"
      ]
    },
    {
      "cell_type": "code",
      "metadata": {
        "id": "n9Ydx_-_JWGU"
      },
      "source": [
        "#imports\n",
        "import zipfile\n",
        "import pandas as pd"
      ],
      "execution_count": 3,
      "outputs": []
    },
    {
      "cell_type": "markdown",
      "metadata": {
        "id": "j4MYDCqolEP4"
      },
      "source": [
        "## Dataset from Repository"
      ]
    },
    {
      "cell_type": "markdown",
      "metadata": {
        "id": "KgfqIjEJKDyb"
      },
      "source": [
        "Get dataset from [Pinkshepz/Alzheimers-Class](https://github.com/Pinkshepz/Alzheimers-Class). MRI images dataset are downloaded from [kaggle.com/alzheimers-dataset-4-class-of-images](https://www.kaggle.com/tourist55/alzheimers-dataset-4-class-of-images)."
      ]
    },
    {
      "cell_type": "code",
      "metadata": {
        "colab": {
          "base_uri": "https://localhost:8080/"
        },
        "id": "phn-eZPLVpXN",
        "outputId": "2ba57944-283c-4bd0-90f3-7dd14ad66f7e"
      },
      "source": [
        "!wget --no-check-certificate \\\n",
        "    \"https://github.com/Pinkshepz/Alzheimers-Class/archive/refs/heads/main.zip\" \\\n",
        "    -O \"/content/alzheimers-image.zip\"\n",
        "\n",
        "\n",
        "zip_ref = zipfile.ZipFile('/content/alzheimers-image.zip', 'r') #Opens the zip file in read mode\n",
        "zip_ref.extractall('/content') #Extracts the files into the /tmp folder\n",
        "zip_ref.close()"
      ],
      "execution_count": 4,
      "outputs": [
        {
          "output_type": "stream",
          "text": [
            "--2021-06-30 02:50:26--  https://github.com/Pinkshepz/Alzheimers-Class/archive/refs/heads/main.zip\n",
            "Resolving github.com (github.com)... 192.30.255.113\n",
            "Connecting to github.com (github.com)|192.30.255.113|:443... connected.\n",
            "HTTP request sent, awaiting response... 302 Found\n",
            "Location: https://codeload.github.com/Pinkshepz/Alzheimers-Class/zip/refs/heads/main [following]\n",
            "--2021-06-30 02:50:26--  https://codeload.github.com/Pinkshepz/Alzheimers-Class/zip/refs/heads/main\n",
            "Resolving codeload.github.com (codeload.github.com)... 192.30.255.120\n",
            "Connecting to codeload.github.com (codeload.github.com)|192.30.255.120|:443... connected.\n",
            "HTTP request sent, awaiting response... 200 OK\n",
            "Length: unspecified [application/zip]\n",
            "Saving to: ‘/content/alzheimers-image.zip’\n",
            "\n",
            "/content/alzheimers     [      <=>           ]  35.11M  32.5MB/s    in 1.1s    \n",
            "\n",
            "2021-06-30 02:50:27 (32.5 MB/s) - ‘/content/alzheimers-image.zip’ saved [36814126]\n",
            "\n"
          ],
          "name": "stdout"
        }
      ]
    },
    {
      "cell_type": "markdown",
      "metadata": {
        "id": "spXi89R403Rg"
      },
      "source": [
        "### Obtain prediction dataframe"
      ]
    },
    {
      "cell_type": "code",
      "metadata": {
        "id": "2HH9pB0702ce"
      },
      "source": [
        "preds_base = pd.read_csv('/content/Alzheimers-Class-main/base_preds.csv').loc[:,['fname', 'Score_base']]\n",
        "preds_mod = pd.read_csv('/content/Alzheimers-Class-main/mod_preds.csv').loc[:,['fname', 'Score_mod']]"
      ],
      "execution_count": 22,
      "outputs": []
    },
    {
      "cell_type": "code",
      "metadata": {
        "id": "vO2Qs5w71pRy"
      },
      "source": [
        "predict = preds_base.merge(preds_mod, how='inner', on='fname')"
      ],
      "execution_count": 24,
      "outputs": []
    },
    {
      "cell_type": "code",
      "metadata": {
        "colab": {
          "base_uri": "https://localhost:8080/",
          "height": 419
        },
        "id": "R0pVtu-12Cj-",
        "outputId": "8e91ac27-1462-4cc0-9793-3ed5233d0210"
      },
      "source": [
        "predict"
      ],
      "execution_count": 25,
      "outputs": [
        {
          "output_type": "execute_result",
          "data": {
            "text/html": [
              "<div>\n",
              "<style scoped>\n",
              "    .dataframe tbody tr th:only-of-type {\n",
              "        vertical-align: middle;\n",
              "    }\n",
              "\n",
              "    .dataframe tbody tr th {\n",
              "        vertical-align: top;\n",
              "    }\n",
              "\n",
              "    .dataframe thead th {\n",
              "        text-align: right;\n",
              "    }\n",
              "</style>\n",
              "<table border=\"1\" class=\"dataframe\">\n",
              "  <thead>\n",
              "    <tr style=\"text-align: right;\">\n",
              "      <th></th>\n",
              "      <th>fname</th>\n",
              "      <th>Score_base</th>\n",
              "      <th>Score_mod</th>\n",
              "    </tr>\n",
              "  </thead>\n",
              "  <tbody>\n",
              "    <tr>\n",
              "      <th>0</th>\n",
              "      <td>/content/Alzheimers-Class-main/Image-dataset/t...</td>\n",
              "      <td>1</td>\n",
              "      <td>1</td>\n",
              "    </tr>\n",
              "    <tr>\n",
              "      <th>1</th>\n",
              "      <td>/content/Alzheimers-Class-main/Image-dataset/t...</td>\n",
              "      <td>1</td>\n",
              "      <td>1</td>\n",
              "    </tr>\n",
              "    <tr>\n",
              "      <th>2</th>\n",
              "      <td>/content/Alzheimers-Class-main/Image-dataset/t...</td>\n",
              "      <td>1</td>\n",
              "      <td>1</td>\n",
              "    </tr>\n",
              "    <tr>\n",
              "      <th>3</th>\n",
              "      <td>/content/Alzheimers-Class-main/Image-dataset/t...</td>\n",
              "      <td>1</td>\n",
              "      <td>1</td>\n",
              "    </tr>\n",
              "    <tr>\n",
              "      <th>4</th>\n",
              "      <td>/content/Alzheimers-Class-main/Image-dataset/t...</td>\n",
              "      <td>1</td>\n",
              "      <td>1</td>\n",
              "    </tr>\n",
              "    <tr>\n",
              "      <th>...</th>\n",
              "      <td>...</td>\n",
              "      <td>...</td>\n",
              "      <td>...</td>\n",
              "    </tr>\n",
              "    <tr>\n",
              "      <th>1274</th>\n",
              "      <td>/content/Alzheimers-Class-main/Image-dataset/t...</td>\n",
              "      <td>0</td>\n",
              "      <td>0</td>\n",
              "    </tr>\n",
              "    <tr>\n",
              "      <th>1275</th>\n",
              "      <td>/content/Alzheimers-Class-main/Image-dataset/t...</td>\n",
              "      <td>0</td>\n",
              "      <td>0</td>\n",
              "    </tr>\n",
              "    <tr>\n",
              "      <th>1276</th>\n",
              "      <td>/content/Alzheimers-Class-main/Image-dataset/t...</td>\n",
              "      <td>0</td>\n",
              "      <td>1</td>\n",
              "    </tr>\n",
              "    <tr>\n",
              "      <th>1277</th>\n",
              "      <td>/content/Alzheimers-Class-main/Image-dataset/t...</td>\n",
              "      <td>0</td>\n",
              "      <td>1</td>\n",
              "    </tr>\n",
              "    <tr>\n",
              "      <th>1278</th>\n",
              "      <td>/content/Alzheimers-Class-main/Image-dataset/t...</td>\n",
              "      <td>0</td>\n",
              "      <td>0</td>\n",
              "    </tr>\n",
              "  </tbody>\n",
              "</table>\n",
              "<p>1279 rows × 3 columns</p>\n",
              "</div>"
            ],
            "text/plain": [
              "                                                  fname  Score_base  Score_mod\n",
              "0     /content/Alzheimers-Class-main/Image-dataset/t...           1          1\n",
              "1     /content/Alzheimers-Class-main/Image-dataset/t...           1          1\n",
              "2     /content/Alzheimers-Class-main/Image-dataset/t...           1          1\n",
              "3     /content/Alzheimers-Class-main/Image-dataset/t...           1          1\n",
              "4     /content/Alzheimers-Class-main/Image-dataset/t...           1          1\n",
              "...                                                 ...         ...        ...\n",
              "1274  /content/Alzheimers-Class-main/Image-dataset/t...           0          0\n",
              "1275  /content/Alzheimers-Class-main/Image-dataset/t...           0          0\n",
              "1276  /content/Alzheimers-Class-main/Image-dataset/t...           0          1\n",
              "1277  /content/Alzheimers-Class-main/Image-dataset/t...           0          1\n",
              "1278  /content/Alzheimers-Class-main/Image-dataset/t...           0          0\n",
              "\n",
              "[1279 rows x 3 columns]"
            ]
          },
          "metadata": {
            "tags": []
          },
          "execution_count": 25
        }
      ]
    },
    {
      "cell_type": "code",
      "metadata": {
        "colab": {
          "base_uri": "https://localhost:8080/"
        },
        "id": "LbaQJiKd6tFg",
        "outputId": "fbc850ad-cc96-42de-ac81-4bc166f68f63"
      },
      "source": [
        "print('Base accuracy = ' + str(predict['Score_base'].mean()))\n",
        "print('Model accuracy = ' + str(predict['Score_mod'].mean()))"
      ],
      "execution_count": 27,
      "outputs": [
        {
          "output_type": "stream",
          "text": [
            "Base accuracy = 0.6262705238467553\n",
            "Model accuracy = 0.743549648162627\n"
          ],
          "name": "stdout"
        }
      ]
    },
    {
      "cell_type": "code",
      "metadata": {
        "id": "iV0w5HGbGVli"
      },
      "source": [
        "# model_base\n",
        "pos_neg = 0\n",
        "pos_pos = 0\n",
        "neg_neg = 0\n",
        "neg_pos = 0\n",
        "i = 0\n",
        "\n",
        "while i < int(len(predict.index)):\n",
        "  if predict.loc[i, 'Score_mod'] == 1 and predict.loc[i, 'Score_base'] == 1:\n",
        "    pos_pos += 1\n",
        "  if predict.loc[i, 'Score_mod'] == 1 and predict.loc[i, 'Score_base'] == 0:\n",
        "    pos_neg += 1\n",
        "  if predict.loc[i, 'Score_mod'] == 0 and predict.loc[i, 'Score_base'] == 1:\n",
        "    neg_pos += 1\n",
        "  if predict.loc[i, 'Score_mod'] == 0 and predict.loc[i, 'Score_base'] == 0:\n",
        "    neg_neg += 1\n",
        "  i += 1"
      ],
      "execution_count": 30,
      "outputs": []
    },
    {
      "cell_type": "code",
      "metadata": {
        "colab": {
          "base_uri": "https://localhost:8080/"
        },
        "id": "4iim7w69MZjj",
        "outputId": "54774b6e-5325-4a33-ac91-62ed1904396d"
      },
      "source": [
        "pos_neg, pos_pos, neg_neg, neg_pos "
      ],
      "execution_count": 31,
      "outputs": [
        {
          "output_type": "execute_result",
          "data": {
            "text/plain": [
              "(240, 711, 238, 90)"
            ]
          },
          "metadata": {
            "tags": []
          },
          "execution_count": 31
        }
      ]
    },
    {
      "cell_type": "code",
      "metadata": {
        "colab": {
          "base_uri": "https://localhost:8080/",
          "height": 111
        },
        "id": "QUlMemYtE_3Z",
        "outputId": "fd6c9b49-9e90-4a80-ef34-e3041a0d7a74"
      },
      "source": [
        "chi_table = pd.DataFrame({'Model_pos':[pos_pos, pos_neg], \n",
        "                          'Model_neg':[neg_pos, neg_neg]}, \n",
        "                         index=['Base_pos', 'Base_neg'], \n",
        "                         columns=['Model_pos', 'Model_neg'])\n",
        "chi_table"
      ],
      "execution_count": 32,
      "outputs": [
        {
          "output_type": "execute_result",
          "data": {
            "text/html": [
              "<div>\n",
              "<style scoped>\n",
              "    .dataframe tbody tr th:only-of-type {\n",
              "        vertical-align: middle;\n",
              "    }\n",
              "\n",
              "    .dataframe tbody tr th {\n",
              "        vertical-align: top;\n",
              "    }\n",
              "\n",
              "    .dataframe thead th {\n",
              "        text-align: right;\n",
              "    }\n",
              "</style>\n",
              "<table border=\"1\" class=\"dataframe\">\n",
              "  <thead>\n",
              "    <tr style=\"text-align: right;\">\n",
              "      <th></th>\n",
              "      <th>Model_pos</th>\n",
              "      <th>Model_neg</th>\n",
              "    </tr>\n",
              "  </thead>\n",
              "  <tbody>\n",
              "    <tr>\n",
              "      <th>Base_pos</th>\n",
              "      <td>711</td>\n",
              "      <td>90</td>\n",
              "    </tr>\n",
              "    <tr>\n",
              "      <th>Base_neg</th>\n",
              "      <td>240</td>\n",
              "      <td>238</td>\n",
              "    </tr>\n",
              "  </tbody>\n",
              "</table>\n",
              "</div>"
            ],
            "text/plain": [
              "          Model_pos  Model_neg\n",
              "Base_pos        711         90\n",
              "Base_neg        240        238"
            ]
          },
          "metadata": {
            "tags": []
          },
          "execution_count": 32
        }
      ]
    },
    {
      "cell_type": "markdown",
      "metadata": {
        "id": "g15RHZlUAr4Q"
      },
      "source": [
        "From the online calculator, we get test statistic = 67.27576 , p-value < 0.0001 and odds ratio = 0.375\n",
        "\n",
        "We conclude that our model predict more accurately than the baseline model at p < 0.0001"
      ]
    }
  ]
}